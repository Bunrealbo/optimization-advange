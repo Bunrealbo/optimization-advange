{
 "cells": [
  {
   "cell_type": "code",
   "execution_count": 38,
   "metadata": {},
   "outputs": [],
   "source": [
    "import os\n",
    "import numpy as np\n",
    "import pandas as pd\n",
    "\n",
    "os.chdir('../core')"
   ]
  },
  {
   "cell_type": "code",
   "execution_count": 43,
   "metadata": {},
   "outputs": [
    {
     "name": "stdout",
     "output_type": "stream",
     "text": [
      "(59598, 23)\n"
     ]
    },
    {
     "data": {
      "text/html": [
       "<div>\n",
       "<style scoped>\n",
       "    .dataframe tbody tr th:only-of-type {\n",
       "        vertical-align: middle;\n",
       "    }\n",
       "\n",
       "    .dataframe tbody tr th {\n",
       "        vertical-align: top;\n",
       "    }\n",
       "\n",
       "    .dataframe thead th {\n",
       "        text-align: right;\n",
       "    }\n",
       "</style>\n",
       "<table border=\"1\" class=\"dataframe\">\n",
       "  <thead>\n",
       "    <tr style=\"text-align: right;\">\n",
       "      <th></th>\n",
       "      <th>Age</th>\n",
       "      <th>Gender</th>\n",
       "      <th>Years at Company</th>\n",
       "      <th>Job Role</th>\n",
       "      <th>Monthly Income</th>\n",
       "      <th>Work-Life Balance</th>\n",
       "      <th>Job Satisfaction</th>\n",
       "      <th>Performance Rating</th>\n",
       "      <th>Number of Promotions</th>\n",
       "      <th>Overtime</th>\n",
       "      <th>...</th>\n",
       "      <th>Number of Dependents</th>\n",
       "      <th>Job Level</th>\n",
       "      <th>Company Size</th>\n",
       "      <th>Company Tenure</th>\n",
       "      <th>Remote Work</th>\n",
       "      <th>Leadership Opportunities</th>\n",
       "      <th>Innovation Opportunities</th>\n",
       "      <th>Company Reputation</th>\n",
       "      <th>Employee Recognition</th>\n",
       "      <th>Attrition</th>\n",
       "    </tr>\n",
       "  </thead>\n",
       "  <tbody>\n",
       "    <tr>\n",
       "      <th>0</th>\n",
       "      <td>29</td>\n",
       "      <td>Female</td>\n",
       "      <td>10</td>\n",
       "      <td>Education</td>\n",
       "      <td>4262</td>\n",
       "      <td>Fair</td>\n",
       "      <td>Medium</td>\n",
       "      <td>High</td>\n",
       "      <td>0</td>\n",
       "      <td>Yes</td>\n",
       "      <td>...</td>\n",
       "      <td>0</td>\n",
       "      <td>Senior</td>\n",
       "      <td>Small</td>\n",
       "      <td>52</td>\n",
       "      <td>No</td>\n",
       "      <td>No</td>\n",
       "      <td>No</td>\n",
       "      <td>Poor</td>\n",
       "      <td>High</td>\n",
       "      <td>1</td>\n",
       "    </tr>\n",
       "    <tr>\n",
       "      <th>1</th>\n",
       "      <td>18</td>\n",
       "      <td>Male</td>\n",
       "      <td>3</td>\n",
       "      <td>Finance</td>\n",
       "      <td>9032</td>\n",
       "      <td>Good</td>\n",
       "      <td>Very High</td>\n",
       "      <td>High</td>\n",
       "      <td>3</td>\n",
       "      <td>Yes</td>\n",
       "      <td>...</td>\n",
       "      <td>3</td>\n",
       "      <td>Entry</td>\n",
       "      <td>Medium</td>\n",
       "      <td>50</td>\n",
       "      <td>No</td>\n",
       "      <td>No</td>\n",
       "      <td>No</td>\n",
       "      <td>Good</td>\n",
       "      <td>Medium</td>\n",
       "      <td>0</td>\n",
       "    </tr>\n",
       "    <tr>\n",
       "      <th>2</th>\n",
       "      <td>30</td>\n",
       "      <td>Female</td>\n",
       "      <td>9</td>\n",
       "      <td>Healthcare</td>\n",
       "      <td>8610</td>\n",
       "      <td>Poor</td>\n",
       "      <td>Medium</td>\n",
       "      <td>Average</td>\n",
       "      <td>2</td>\n",
       "      <td>No</td>\n",
       "      <td>...</td>\n",
       "      <td>4</td>\n",
       "      <td>Entry</td>\n",
       "      <td>Large</td>\n",
       "      <td>62</td>\n",
       "      <td>No</td>\n",
       "      <td>No</td>\n",
       "      <td>No</td>\n",
       "      <td>Fair</td>\n",
       "      <td>Low</td>\n",
       "      <td>0</td>\n",
       "    </tr>\n",
       "    <tr>\n",
       "      <th>3</th>\n",
       "      <td>46</td>\n",
       "      <td>Male</td>\n",
       "      <td>2</td>\n",
       "      <td>Education</td>\n",
       "      <td>5071</td>\n",
       "      <td>Fair</td>\n",
       "      <td>High</td>\n",
       "      <td>Average</td>\n",
       "      <td>1</td>\n",
       "      <td>Yes</td>\n",
       "      <td>...</td>\n",
       "      <td>0</td>\n",
       "      <td>Entry</td>\n",
       "      <td>Small</td>\n",
       "      <td>39</td>\n",
       "      <td>No</td>\n",
       "      <td>No</td>\n",
       "      <td>No</td>\n",
       "      <td>Good</td>\n",
       "      <td>High</td>\n",
       "      <td>0</td>\n",
       "    </tr>\n",
       "    <tr>\n",
       "      <th>4</th>\n",
       "      <td>37</td>\n",
       "      <td>Male</td>\n",
       "      <td>17</td>\n",
       "      <td>Technology</td>\n",
       "      <td>10037</td>\n",
       "      <td>Fair</td>\n",
       "      <td>High</td>\n",
       "      <td>Average</td>\n",
       "      <td>0</td>\n",
       "      <td>No</td>\n",
       "      <td>...</td>\n",
       "      <td>1</td>\n",
       "      <td>Mid</td>\n",
       "      <td>Medium</td>\n",
       "      <td>42</td>\n",
       "      <td>No</td>\n",
       "      <td>No</td>\n",
       "      <td>No</td>\n",
       "      <td>Good</td>\n",
       "      <td>Low</td>\n",
       "      <td>0</td>\n",
       "    </tr>\n",
       "  </tbody>\n",
       "</table>\n",
       "<p>5 rows × 23 columns</p>\n",
       "</div>"
      ],
      "text/plain": [
       "   Age  Gender  Years at Company    Job Role  Monthly Income  \\\n",
       "0   29  Female                10   Education            4262   \n",
       "1   18    Male                 3     Finance            9032   \n",
       "2   30  Female                 9  Healthcare            8610   \n",
       "3   46    Male                 2   Education            5071   \n",
       "4   37    Male                17  Technology           10037   \n",
       "\n",
       "  Work-Life Balance Job Satisfaction Performance Rating  Number of Promotions  \\\n",
       "0              Fair           Medium               High                     0   \n",
       "1              Good        Very High               High                     3   \n",
       "2              Poor           Medium            Average                     2   \n",
       "3              Fair             High            Average                     1   \n",
       "4              Fair             High            Average                     0   \n",
       "\n",
       "  Overtime  ...  Number of Dependents Job Level Company Size  Company Tenure  \\\n",
       "0      Yes  ...                     0    Senior        Small              52   \n",
       "1      Yes  ...                     3     Entry       Medium              50   \n",
       "2       No  ...                     4     Entry        Large              62   \n",
       "3      Yes  ...                     0     Entry        Small              39   \n",
       "4       No  ...                     1       Mid       Medium              42   \n",
       "\n",
       "  Remote Work Leadership Opportunities  Innovation Opportunities  \\\n",
       "0          No                       No                        No   \n",
       "1          No                       No                        No   \n",
       "2          No                       No                        No   \n",
       "3          No                       No                        No   \n",
       "4          No                       No                        No   \n",
       "\n",
       "  Company Reputation Employee Recognition Attrition  \n",
       "0               Poor                 High         1  \n",
       "1               Good               Medium         0  \n",
       "2               Fair                  Low         0  \n",
       "3               Good                 High         0  \n",
       "4               Good                  Low         0  \n",
       "\n",
       "[5 rows x 23 columns]"
      ]
     },
     "execution_count": 43,
     "metadata": {},
     "output_type": "execute_result"
    }
   ],
   "source": [
    "DATA_DIR = \"../data\"\n",
    "FILE_NAME = \"train.csv\"\n",
    "\n",
    "df = pd.read_csv(os.path.join(DATA_DIR, FILE_NAME))\n",
    "df = df.drop(columns=[\"Employee ID\"])\n",
    "df = df.sample(frac=1, random_state=42).reset_index(drop=True)\n",
    "df[\"Attrition\"] = df[\"Attrition\"].map({\"Stayed\": 1, \"Left\": 0})\n",
    "print(df.shape)\n",
    "\n",
    "df.head(5)"
   ]
  },
  {
   "cell_type": "code",
   "execution_count": 44,
   "metadata": {},
   "outputs": [
    {
     "data": {
      "text/plain": [
       "Age                         0\n",
       "Gender                      0\n",
       "Years at Company            0\n",
       "Job Role                    0\n",
       "Monthly Income              0\n",
       "Work-Life Balance           0\n",
       "Job Satisfaction            0\n",
       "Performance Rating          0\n",
       "Number of Promotions        0\n",
       "Overtime                    0\n",
       "Distance from Home          0\n",
       "Education Level             0\n",
       "Marital Status              0\n",
       "Number of Dependents        0\n",
       "Job Level                   0\n",
       "Company Size                0\n",
       "Company Tenure              0\n",
       "Remote Work                 0\n",
       "Leadership Opportunities    0\n",
       "Innovation Opportunities    0\n",
       "Company Reputation          0\n",
       "Employee Recognition        0\n",
       "Attrition                   0\n",
       "dtype: int64"
      ]
     },
     "execution_count": 44,
     "metadata": {},
     "output_type": "execute_result"
    }
   ],
   "source": [
    "df.isnull().sum()"
   ]
  },
  {
   "cell_type": "code",
   "execution_count": 45,
   "metadata": {},
   "outputs": [
    {
     "data": {
      "text/plain": [
       "array([[0.26829268, 0.18      , 0.1986112 , ..., 0.        , 3.        ,\n",
       "        0.        ],\n",
       "       [0.        , 0.04      , 0.52019146, ..., 0.        , 2.        ,\n",
       "        2.        ],\n",
       "       [0.29268293, 0.16      , 0.49174139, ..., 0.        , 1.        ,\n",
       "        1.        ],\n",
       "       ...,\n",
       "       [0.51219512, 0.02      , 0.23582552, ..., 0.        , 2.        ,\n",
       "        1.        ],\n",
       "       [0.24390244, 0.3       , 0.6059462 , ..., 0.        , 2.        ,\n",
       "        2.        ],\n",
       "       [0.43902439, 0.44      , 0.20339783, ..., 0.        , 2.        ,\n",
       "        2.        ]])"
      ]
     },
     "execution_count": 45,
     "metadata": {},
     "output_type": "execute_result"
    }
   ],
   "source": [
    "from sklearn.preprocessing import LabelEncoder\n",
    "from sklearn.preprocessing import StandardScaler, MinMaxScaler\n",
    "from sklearn.compose import ColumnTransformer\n",
    "from sklearn.base import BaseEstimator, TransformerMixin\n",
    "\n",
    "class LabelEncoderTransformer(BaseEstimator, TransformerMixin):\n",
    "    def __init__(self):\n",
    "        self.label_encoders = {}\n",
    "    \n",
    "    def fit(self, X, y=None):\n",
    "        for column in X.columns:\n",
    "            le = LabelEncoder()\n",
    "            le.fit(X[column])\n",
    "            self.label_encoders[column] = le\n",
    "        return self\n",
    "    \n",
    "    def transform(self, X):\n",
    "        X_transformed = X.copy()\n",
    "        for column in X.columns:\n",
    "            le = self.label_encoders[column]\n",
    "            X_transformed[column] = le.transform(X[column])\n",
    "        return X_transformed\n",
    "    \n",
    "    def inverse_transform(self, X):\n",
    "        X_inverse_transformed = X.copy()\n",
    "        for column in X.columns:\n",
    "            le = self.label_encoders[column]\n",
    "            X_inverse_transformed[column] = le.inverse_transform(X[column])\n",
    "        return X_inverse_transformed\n",
    "\n",
    "\n",
    "target_column = \"Attrition\"\n",
    "\n",
    "# Choose numeric columns except the target column\n",
    "numeric_columns = df.drop(columns=[target_column]).select_dtypes(include=['int64', 'float64']).columns.tolist()\n",
    "category_columns = df.select_dtypes(include=['object']).columns.tolist()\n",
    "\n",
    "processor = ColumnTransformer(\n",
    "    transformers=[\n",
    "        ('num', MinMaxScaler(), numeric_columns),\n",
    "        ('cat', LabelEncoderTransformer(), category_columns)\n",
    "    ]\n",
    ")\n",
    "\n",
    "X = processor.fit_transform(df.drop(columns=[target_column]), df[target_column])\n",
    "y = df[target_column].values.reshape(-1, 1)\n",
    "\n",
    "X"
   ]
  },
  {
   "cell_type": "code",
   "execution_count": null,
   "metadata": {},
   "outputs": [],
   "source": []
  },
  {
   "cell_type": "code",
   "execution_count": 54,
   "metadata": {},
   "outputs": [
    {
     "name": "stdout",
     "output_type": "stream",
     "text": [
      "Elapsed time: 0.32703590393066406\n"
     ]
    }
   ],
   "source": [
    "from model import LogisticRegression\n",
    "from time import time\n",
    "\n",
    "lr = LogisticRegression(learning_rate=0.05, num_iterations=50, solver='gradient-descent', log=True)\n",
    "\n",
    "start = time()\n",
    "lr.fit(X, y)\n",
    "end = time()\n",
    "\n",
    "print(f\"Elapsed time: {end - start}\")"
   ]
  },
  {
   "cell_type": "code",
   "execution_count": 55,
   "metadata": {},
   "outputs": [
    {
     "name": "stdout",
     "output_type": "stream",
     "text": [
      "              precision    recall  f1-score   support\n",
      "\n",
      "           0       0.70      0.57      0.63     28338\n",
      "           1       0.67      0.78      0.72     31260\n",
      "\n",
      "    accuracy                           0.68     59598\n",
      "   macro avg       0.68      0.68      0.67     59598\n",
      "weighted avg       0.68      0.68      0.68     59598\n",
      "\n"
     ]
    }
   ],
   "source": [
    "y_pred = lr.predict(X)\n",
    "\n",
    "from sklearn.metrics import classification_report\n",
    "\n",
    "report = classification_report(y, y_pred)\n",
    "\n",
    "print(report)"
   ]
  },
  {
   "cell_type": "code",
   "execution_count": 56,
   "metadata": {},
   "outputs": [
    {
     "name": "stderr",
     "output_type": "stream",
     "text": [
      "/home/quyanh/.local/lib/python3.10/site-packages/sklearn/utils/validation.py:1184: DataConversionWarning: A column-vector y was passed when a 1d array was expected. Please change the shape of y to (n_samples, ), for example using ravel().\n",
      "  y = column_or_1d(y, warn=True)\n"
     ]
    },
    {
     "name": "stdout",
     "output_type": "stream",
     "text": [
      "Elapsed time: 0.33415985107421875\n"
     ]
    }
   ],
   "source": [
    "from sklearn.linear_model import LogisticRegression as SklearnLogisticRegression\n",
    "from time import time\n",
    "\n",
    "lr = SklearnLogisticRegression(verbose=0)\n",
    "\n",
    "start = time()\n",
    "lr.fit(X, y)\n",
    "end = time()\n",
    "\n",
    "print(f\"Elapsed time: {end - start}\")"
   ]
  },
  {
   "cell_type": "code",
   "execution_count": 50,
   "metadata": {},
   "outputs": [
    {
     "name": "stdout",
     "output_type": "stream",
     "text": [
      "              precision    recall  f1-score   support\n",
      "\n",
      "           0       0.70      0.69      0.70     28338\n",
      "           1       0.72      0.73      0.73     31260\n",
      "\n",
      "    accuracy                           0.71     59598\n",
      "   macro avg       0.71      0.71      0.71     59598\n",
      "weighted avg       0.71      0.71      0.71     59598\n",
      "\n"
     ]
    }
   ],
   "source": [
    "y_pred = lr.predict(X)\n",
    "\n",
    "from sklearn.metrics import classification_report\n",
    "\n",
    "report = classification_report(y, y_pred)\n",
    "\n",
    "print(report)"
   ]
  },
  {
   "cell_type": "code",
   "execution_count": null,
   "metadata": {},
   "outputs": [],
   "source": []
  },
  {
   "cell_type": "code",
   "execution_count": null,
   "metadata": {},
   "outputs": [],
   "source": []
  }
 ],
 "metadata": {
  "kernelspec": {
   "display_name": "Python 3",
   "language": "python",
   "name": "python3"
  },
  "language_info": {
   "codemirror_mode": {
    "name": "ipython",
    "version": 3
   },
   "file_extension": ".py",
   "mimetype": "text/x-python",
   "name": "python",
   "nbconvert_exporter": "python",
   "pygments_lexer": "ipython3",
   "version": "3.10.12"
  }
 },
 "nbformat": 4,
 "nbformat_minor": 2
}
